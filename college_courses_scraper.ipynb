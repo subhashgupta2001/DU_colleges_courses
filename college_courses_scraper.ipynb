{
  "nbformat": 4,
  "nbformat_minor": 0,
  "metadata": {
    "colab": {
      "provenance": []
    },
    "kernelspec": {
      "name": "python3",
      "display_name": "Python 3"
    },
    "language_info": {
      "name": "python"
    }
  },
  "cells": [
    {
      "cell_type": "markdown",
      "source": [
        "##Pre-Selection Assignment: Course Scraper for Indian Colleges by SUBHASH GUPTA"
      ],
      "metadata": {
        "id": "tayKreP6aUhN"
      }
    },
    {
      "cell_type": "code",
      "source": [
        "!pip install requests beautifulsoup4"
      ],
      "metadata": {
        "colab": {
          "base_uri": "https://localhost:8080/"
        },
        "id": "K0FITWgRQvLy",
        "outputId": "80719c76-8868-4af8-dd3b-295c2a983b76"
      },
      "execution_count": null,
      "outputs": [
        {
          "output_type": "stream",
          "name": "stdout",
          "text": [
            "Requirement already satisfied: requests in /usr/local/lib/python3.10/dist-packages (2.32.3)\n",
            "Requirement already satisfied: beautifulsoup4 in /usr/local/lib/python3.10/dist-packages (4.12.3)\n",
            "Requirement already satisfied: charset-normalizer<4,>=2 in /usr/local/lib/python3.10/dist-packages (from requests) (3.3.2)\n",
            "Requirement already satisfied: idna<4,>=2.5 in /usr/local/lib/python3.10/dist-packages (from requests) (3.7)\n",
            "Requirement already satisfied: urllib3<3,>=1.21.1 in /usr/local/lib/python3.10/dist-packages (from requests) (2.0.7)\n",
            "Requirement already satisfied: certifi>=2017.4.17 in /usr/local/lib/python3.10/dist-packages (from requests) (2024.7.4)\n",
            "Requirement already satisfied: soupsieve>1.2 in /usr/local/lib/python3.10/dist-packages (from beautifulsoup4) (2.5)\n"
          ]
        }
      ]
    },
    {
      "cell_type": "code",
      "execution_count": null,
      "metadata": {
        "id": "nrzYzHnQE4XG"
      },
      "outputs": [],
      "source": [
        "import requests"
      ]
    },
    {
      "cell_type": "code",
      "source": [
        "from bs4 import BeautifulSoup"
      ],
      "metadata": {
        "id": "jtCOHNO5F_0A"
      },
      "execution_count": null,
      "outputs": []
    },
    {
      "cell_type": "code",
      "source": [
        "def scrape_courses(college_name=None, Url=None):\n",
        "  if college_name:\n",
        "    # Map college name to URL\n",
        "    college_urls = {\n",
        "        \"Hansraj College\": \"https://www.hansrajcollege.ac.in/courses\",\n",
        "        \"Kirori Mal College\": \"https://www.kmcollege.ac.in/courses\",\n",
        "        # Here we can add more colleges of Delhi University\n",
        "    }\n",
        "    url = college_urls.get(college_name)\n",
        "    if not url:\n",
        "      raise ValueError(\"College not found\")\n",
        "\n",
        "  if not url:\n",
        "    raise ValueError(\"URL not provided\")\n",
        "\n",
        "  return url # Return the url from the function"
      ],
      "metadata": {
        "id": "ibBAPa0QGXOP"
      },
      "execution_count": null,
      "outputs": []
    },
    {
      "cell_type": "code",
      "source": [
        "# Call the function and store the returned url\n",
        "url = scrape_courses(college_name=\"Hansraj College\") # Replace with the desired college name"
      ],
      "metadata": {
        "id": "KQn8lPkQNLEL"
      },
      "execution_count": null,
      "outputs": []
    },
    {
      "cell_type": "code",
      "source": [
        "# Send request to URL\n",
        "response = requests.get(url)\n",
        "soup = BeautifulSoup(response.content, \"html.parser\")\n"
      ],
      "metadata": {
        "id": "HiPK6iBTLCSX"
      },
      "execution_count": null,
      "outputs": []
    },
    {
      "cell_type": "code",
      "source": [
        "# Print the html content for inspection\n",
        "print(soup.prettify())\n",
        "\n",
        "# Find course list\n",
        "course_list = soup.find(\"ul\")\n",
        "if not course_list:\n",
        "  print(\"Course list not found. Inspect the HTML output above.\")\n",
        "else:\n",
        "  print(\"Course list found!\")\n",
        "\n",
        "  # Extract the course names\n",
        "  courses = []\n",
        "  for course in course_list.find_all(\"li\"):\n",
        "    course_name = course.text.strip()\n",
        "    courses.append(course_name)\n",
        "\n",
        "  print(courses) # Print the extracted courses"
      ],
      "metadata": {
        "colab": {
          "base_uri": "https://localhost:8080/"
        },
        "id": "80kZzDXGMIVb",
        "outputId": "2fcfafa9-94f7-4047-b89c-efd6aa0dc11f"
      },
      "execution_count": null,
      "outputs": [
        {
          "output_type": "stream",
          "name": "stdout",
          "text": [
            "<!DOCTYPE html>\n",
            "<html lang=\"en\">\n",
            " <head>\n",
            "  <meta charset=\"utf-8\"/>\n",
            "  <title>\n",
            "   Hansraj College, University of Delhi\n",
            "  </title>\n",
            "  <meta content=\"Hansraj College, University of Delhi\" name=\"description\"/>\n",
            "  <meta content=\"Hansraj, Hansraj College, Delhi, Delhi University\" name=\"keywords\"/>\n",
            "  <link href=\"https://www.hansrajcollege.ac.in/assets/front/images/favicon.ico\" rel=\"shortcut icon\" type=\"image/x-icon\"/>\n",
            "  <link href=\"https://www.hansrajcollege.ac.in/assets/front/images/favicon.ico\" rel=\"icon\" type=\"image/x-icon\"/>\n",
            "  <meta content=\"width=device-width, initial-scale=1, maximum-scale=1\" name=\"viewport\"/>\n",
            "  <link href=\"https://fonts.googleapis.com\" rel=\"preconnect\"/>\n",
            "  <link crossorigin=\"\" href=\"https://fonts.gstatic.com\" rel=\"preconnect\"/>\n",
            "  <link href=\"https://fonts.googleapis.com/css2?family=Poppins:wght@100;200;300;400;500;600;700;800;900&amp;display=swap\" rel=\"stylesheet\"/>\n",
            "  <link href=\"https://fonts.googleapis.com/css2?family=Roboto:wght@100;300;400;500;700;900&amp;display=swap\" rel=\"stylesheet\"/>\n",
            "  <link href=\"https://fonts.googleapis.com/css2?family=Open+Sans:wght@300;400;600;700;800&amp;display=swap\" rel=\"stylesheet\"/>\n",
            "  <link href=\"https://fonts.googleapis.com/css2?family=Crimson+Text:wght@400;600;700&amp;display=swap\" rel=\"stylesheet\"/>\n",
            "  <link href=\"https://fonts.googleapis.com/css2?family=Alegreya:wght@400;500;600;700;800;900&amp;display=swap\" rel=\"stylesheet\"/>\n",
            "  <link href=\"https://www.hansrajcollege.ac.in/assets/front/css/bootstrap.min.css\" rel=\"stylesheet\" type=\"text/css\"/>\n",
            "  <link href=\"https://www.hansrajcollege.ac.in/assets/front/css/fontawesome-all.min.css\" rel=\"stylesheet\" type=\"text/css\"/>\n",
            "  <link href=\"https://www.hansrajcollege.ac.in/assets/front/css/style.css?v=01122023\" rel=\"stylesheet\" type=\"text/css\"/>\n",
            "  <link href=\"https://www.hansrajcollege.ac.in/assets/front/css/responsive.css?v=01122023\" rel=\"stylesheet\" type=\"text/css\"/>\n",
            "  <link href=\"https://www.hansrajcollege.ac.in/assets/front/css/dark_mode.css?v=01122023\" rel=\"stylesheet\" type=\"text/css\"/>\n",
            "  <script crossorigin=\"anonymous\" integrity=\"sha256-H+K7U5CnXl1h5ywQfKtSj8PCmoN9aaq30gDh27Xc0jk=\" src=\"https://code.jquery.com/jquery-3.6.0.js\">\n",
            "  </script>\n",
            " </head>\n",
            " <body style=\"background:#ffffff;\">\n",
            "  <div class=\"middle-container page-inner mt-0\" style=\"background:#ffffff;\">\n",
            "   <div class=\"container\">\n",
            "    <div class=\"row\">\n",
            "     <div class=\"col-lg-12 col-md-12\">\n",
            "      <div class=\"content-area\">\n",
            "       <div class=\"page-error\">\n",
            "        <div class=\"page-error-thumb\">\n",
            "         <img alt=\"\" src=\"https://www.hansrajcollege.ac.in/assets/front/images/error404.svg\"/>\n",
            "        </div>\n",
            "        <div class=\"page-error-content\">\n",
            "         <h2>\n",
            "          Page Not Found\n",
            "         </h2>\n",
            "         <h3>\n",
            "          We are sorry, the page you requested cannot be found.\n",
            "         </h3>\n",
            "         <a class=\"btn btn-custom btn-primary\" href=\"https://www.hansrajcollege.ac.in/\">\n",
            "          Go to Main Website\n",
            "         </a>\n",
            "        </div>\n",
            "       </div>\n",
            "      </div>\n",
            "     </div>\n",
            "    </div>\n",
            "   </div>\n",
            "  </div>\n",
            "  <script src=\"https://www.hansrajcollege.ac.in/assets/front/js/bootstrap.min.js\">\n",
            "  </script>\n",
            "  <script src=\"https://www.hansrajcollege.ac.in/assets/front/js/bootstrap.bundle.min.js\">\n",
            "  </script>\n",
            " </body>\n",
            "</html>\n",
            "\n",
            "Course list not found. Inspect the HTML output above.\n"
          ]
        }
      ]
    },
    {
      "cell_type": "code",
      "source": [
        "def main():\n",
        "    college_name = input(\"Enter college name (or URL): \")\n",
        "    if college_name.startswith(\"http\"):\n",
        "        url = college_name\n",
        "        college_name = None\n",
        "    else:\n",
        "        url = None\n",
        "\n",
        "    try:\n",
        "        courses = scrape_courses(college_name, url)\n",
        "        print(\"Courses offered by\", college_name or url)\n",
        "        for course in courses:\n",
        "            print(course)\n",
        "    except ValueError as e:\n",
        "        print(e)"
      ],
      "metadata": {
        "id": "wfb7IsSCSh_5"
      },
      "execution_count": null,
      "outputs": []
    },
    {
      "cell_type": "code",
      "source": [
        "if __name__ == \"__main__\":\n",
        "    main()"
      ],
      "metadata": {
        "colab": {
          "base_uri": "https://localhost:8080/"
        },
        "id": "2fOFR6NzVvYp",
        "outputId": "b0147c1d-af6e-4ad8-dadb-05748574cc4a"
      },
      "execution_count": null,
      "outputs": [
        {
          "output_type": "stream",
          "name": "stdout",
          "text": [
            "Enter college name (or URL): Hansraz College\n",
            "College not found\n"
          ]
        }
      ]
    },
    {
      "cell_type": "code",
      "source": [],
      "metadata": {
        "id": "pXuSQOUuV1Xq"
      },
      "execution_count": null,
      "outputs": []
    }
  ]
}