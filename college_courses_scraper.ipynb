{
  "nbformat": 4,
  "nbformat_minor": 0,
  "metadata": {
    "colab": {
      "provenance": []
    },
    "kernelspec": {
      "name": "python3",
      "display_name": "Python 3"
    },
    "language_info": {
      "name": "python"
    }
  },
  "cells": [
    {
      "cell_type": "markdown",
      "source": [
        "\n",
        "\n",
        "> ## Pre-Selection Assignment: Course Scraper for Indian Colleges(Delhi University) by SUBHASH GUPTA\n",
        "\n"
      ],
      "metadata": {
        "id": "eeNQyg06ZC2A"
      }
    },
    {
      "cell_type": "code",
      "source": [
        "# Import the libraries\n",
        "import requests\n",
        "from bs4 import BeautifulSoup\n",
        "import re"
      ],
      "metadata": {
        "id": "6Y5jmr9aAv9l"
      },
      "execution_count": 34,
      "outputs": []
    },
    {
      "cell_type": "code",
      "source": [
        "def get_college_url(college_name):\n",
        "    # Function to map college name to the URL of the course page\n",
        "    college_mapping = {\n",
        "        \"Hansraj College\": \"https://aryabhattacollege.ac.in/ourcourses.aspx\",\n",
        "        \"Bharti College\": \"https://www.bharaticollege.du.ac.in/bc/du/ba\",\n",
        "        # Here we can add more colleges of Delhi University\n",
        "    }\n",
        "    return college_mapping.get(college_name)"
      ],
      "metadata": {
        "id": "FNj_8CyuCG-J"
      },
      "execution_count": 36,
      "outputs": []
    },
    {
      "cell_type": "code",
      "source": [
        "def scrape_courses(url):\n",
        "    # Function to scrape the courses from a given URL\n",
        "    try:\n",
        "        response = requests.get(url)\n",
        "        response.raise_for_status()\n",
        "\n",
        "        soup = BeautifulSoup(response.content, 'html.parser')\n",
        "\n",
        "        courses = []\n",
        "        # The following is a generic way of finding courses\n",
        "        # Modify this based on the structure of the page being scraped\n",
        "        for course in soup.find_all(['h2', 'h3', 'li']):\n",
        "            course_text = course.get_text(strip=True)\n",
        "            if re.search(r'(B\\.?A\\.?|M\\.?A\\.?|B\\.?Sc\\.?|M\\.?Sc\\.?|B\\.?Com\\.?|M\\.?Com\\.?|Ph\\.?D\\.?)', course_text, re.I):\n",
        "                courses.append(course_text)\n",
        "\n",
        "        return courses\n",
        "\n",
        "    except requests.exceptions.RequestException as e:\n",
        "        print(f\"Error: {e}\")\n",
        "        return []"
      ],
      "metadata": {
        "id": "D17YyIMtChOt"
      },
      "execution_count": 37,
      "outputs": []
    },
    {
      "cell_type": "code",
      "source": [
        "def get_courses(input_value):\n",
        "    # Main function to get courses based on input (college name or URL)\n",
        "    if input_value.startswith('http'):\n",
        "        url = input_value\n",
        "    else:\n",
        "        url = get_college_url(input_value)\n",
        "        if not url:\n",
        "            print(\"College not found. Please provide a valid college name or URL.\")\n",
        "            return []\n",
        "\n",
        "    courses = scrape_courses(url)\n",
        "\n",
        "    if courses:\n",
        "        return courses\n",
        "    else:\n",
        "        print(\"No courses found or failed to scrape the website.\")\n",
        "        return []"
      ],
      "metadata": {
        "id": "PM2IOeCiCqk9"
      },
      "execution_count": 38,
      "outputs": []
    },
    {
      "cell_type": "code",
      "source": [
        "if __name__ == \"__main__\":\n",
        "    input_value = input(\"Enter the college name or the URL of the course page: \").strip()\n",
        "    courses = get_courses(input_value)\n",
        "\n",
        "    if courses:\n",
        "        print(\"Courses offered:\")\n",
        "        for i, course in enumerate(courses, 1):\n",
        "            print(f\"{i}. {course}\")"
      ],
      "metadata": {
        "colab": {
          "base_uri": "https://localhost:8080/"
        },
        "id": "k25lubEKCzID",
        "outputId": "39733a93-2d94-4213-fa76-67328a5842a1"
      },
      "execution_count": 39,
      "outputs": [
        {
          "output_type": "stream",
          "name": "stdout",
          "text": [
            "Enter the college name or the URL of the course page: Bharti College\n",
            "Courses offered:\n",
            "1. AcademicsDepartmentsCommerceComputer ScienceEconomicsEnglishEnvironmental StudiesHuman Development & Family EmpowermentHindiHistoryJournalismMathematicsMusicPhysical EducationPolitical SciencePsychologyPunjabiSanskritSociologyCoursesUnder GraduateBABA Hons EnglishBA Hons HindiBA Hons HistoryBA Hons JournalismBA Hons Political ScienceBA Hons PsychologyBA Hons SociologyBA Hons SanskritB.ComB.Com HonsB.Sc. Hons MathematicsPost GraduateMA in HindiResearchAbout UsResearch Publications by FacultyResearch ProjectJournalsArthavaanThe Research PostEvents by Research CommitteePalanquin of Thoughts (The Blog)Academic Bank of Credits (ABC)Program OutcomesCourse OutcomesShort-Term CoursesForeign Language CoursesComputer CoursesAcademic CalendarNCWEBSOLIGNOUIGNOUIGNOU StructureIGNOU NotificationsIGNOU AssignmentsICT Tools\n",
            "2. DepartmentsCommerceComputer ScienceEconomicsEnglishEnvironmental StudiesHuman Development & Family EmpowermentHindiHistoryJournalismMathematicsMusicPhysical EducationPolitical SciencePsychologyPunjabiSanskritSociology\n",
            "3. Human Development & Family Empowerment\n",
            "4. Mathematics\n",
            "5. CoursesUnder GraduateBABA Hons EnglishBA Hons HindiBA Hons HistoryBA Hons JournalismBA Hons Political ScienceBA Hons PsychologyBA Hons SociologyBA Hons SanskritB.ComB.Com HonsB.Sc. Hons MathematicsPost GraduateMA in Hindi\n",
            "6. Under GraduateBABA Hons EnglishBA Hons HindiBA Hons HistoryBA Hons JournalismBA Hons Political ScienceBA Hons PsychologyBA Hons SociologyBA Hons SanskritB.ComB.Com HonsB.Sc. Hons Mathematics\n",
            "7. BA\n",
            "8. BA Hons English\n",
            "9. BA Hons Hindi\n",
            "10. BA Hons History\n",
            "11. BA Hons Journalism\n",
            "12. BA Hons Political Science\n",
            "13. BA Hons Psychology\n",
            "14. BA Hons Sociology\n",
            "15. BA Hons Sanskrit\n",
            "16. B.Com\n",
            "17. B.Com Hons\n",
            "18. B.Sc. Hons Mathematics\n",
            "19. Post GraduateMA in Hindi\n",
            "20. MA in Hindi\n",
            "21. Academic Bank of Credits (ABC)\n",
            "22. Students ZoneSyllabusTime TableNEP UGCF 2022GuidelinesStudent's HelpdeskMentor Mentee GroupsAbout Mentor MenteeList of Mentor Mentee GroupsSocieties and ClubsDepartmental SocietiesLoksamvadCommercio - The Vanijya SamitiRedstockings Literary SocietySanskrit ParishadThe ExponentsFreakonomicsPravahCathectHestiaUtkarshTarseelEnactusSrijanAmbedkar Study CircleDastaanAreya The Leadership CellMARCHIONESSTechnophilesECAKavya - Abhivyakti Ka Saajha ManchChilman-The TheatreChintan-The Debating SocietyElantre-The Fashion SocietiesManthan-Nukkad Natak SocietyAdvaita-Dance SocietyMridangKudiya di PhulkariGandhi Study CircleArtvilla-Art and Aesthetic SocietyGIRL UP AGNIClubsPalash-The Eco ClubCine Walkers-The Film ClubAnanda - The Happiness ClubCellOPUS - The Internship and Placement CellUpkram - Innovation and Entrepreneurship CellSC / ST CellNorth East CellJagriti-Women Development CellEqual Opportunity CellOutreach Extension CellAcademic Support CellIris Queer CollectiveVitt 'N' NiveshCounselling CentreLearn & EarnRules For StudentsStudents UnionCollege MagazineE-LearningOneDUPrizes & AwardsFeedbackStudent Grievance Redressal MechanismGrievance Redressal SystemGrievance Redressal Form\n",
            "23. Societies and ClubsDepartmental SocietiesLoksamvadCommercio - The Vanijya SamitiRedstockings Literary SocietySanskrit ParishadThe ExponentsFreakonomicsPravahCathectHestiaUtkarshTarseelEnactusSrijanAmbedkar Study CircleDastaanAreya The Leadership CellMARCHIONESSTechnophilesECAKavya - Abhivyakti Ka Saajha ManchChilman-The TheatreChintan-The Debating SocietyElantre-The Fashion SocietiesManthan-Nukkad Natak SocietyAdvaita-Dance SocietyMridangKudiya di PhulkariGandhi Study CircleArtvilla-Art and Aesthetic SocietyGIRL UP AGNIClubsPalash-The Eco ClubCine Walkers-The Film ClubAnanda - The Happiness ClubCellOPUS - The Internship and Placement CellUpkram - Innovation and Entrepreneurship CellSC / ST CellNorth East CellJagriti-Women Development CellEqual Opportunity CellOutreach Extension CellAcademic Support CellIris Queer CollectiveVitt 'N' Nivesh\n",
            "24. Departmental SocietiesLoksamvadCommercio - The Vanijya SamitiRedstockings Literary SocietySanskrit ParishadThe ExponentsFreakonomicsPravahCathectHestiaUtkarshTarseelEnactusSrijanAmbedkar Study CircleDastaanAreya The Leadership CellMARCHIONESSTechnophiles\n",
            "25. MARCHIONESS\n",
            "26. ECAKavya - Abhivyakti Ka Saajha ManchChilman-The TheatreChintan-The Debating SocietyElantre-The Fashion SocietiesManthan-Nukkad Natak SocietyAdvaita-Dance SocietyMridangKudiya di PhulkariGandhi Study CircleArtvilla-Art and Aesthetic SocietyGIRL UP AGNI\n",
            "27. Kavya - Abhivyakti Ka Saajha Manch\n",
            "28. Chilman-The Theatre\n",
            "29. Chintan-The Debating Society\n",
            "30. Manthan-Nukkad Natak Society\n",
            "31. ClubsPalash-The Eco ClubCine Walkers-The Film ClubAnanda - The Happiness Club\n",
            "32. College Magazine\n",
            "33. Feedback\n",
            "34. Collaborations & MOUsYear 2023-24MOU - Hansraj CollegeMOU - Spoken Tutorial, IIT BombayMOU - Sparsh Social Welfare Org.MOU - Sewa BhartiMOU - NIELITMOU - Pravah & Dept. SociologyMOU - CDFMOU - DU, SOL and Samartha Bharat for CDCYear 2022-23MOU - Spoken Tutorial, IIT BombayMOU - Bisleri InternationalMOU - Delta Right Advisors.MOU - Hansraj CollegeMOU - ABTMOU - Sparsh Social Welfare Org.MOU - Sanskrit BharatiMOU - Sewa BhartiMOU - CDF_BisleriMOU - ABT & Music DepartmentMOU - FDP-95Year 2021-22MOU-Delta Right\n",
            "35. Year 2023-24MOU - Hansraj CollegeMOU - Spoken Tutorial, IIT BombayMOU - Sparsh Social Welfare Org.MOU - Sewa BhartiMOU - NIELITMOU - Pravah & Dept. SociologyMOU - CDFMOU - DU, SOL and Samartha Bharat for CDC\n",
            "36. MOU - Spoken Tutorial, IIT Bombay\n",
            "37. MOU - DU, SOL and Samartha Bharat for CDC\n",
            "38. Year 2022-23MOU - Spoken Tutorial, IIT BombayMOU - Bisleri InternationalMOU - Delta Right Advisors.MOU - Hansraj CollegeMOU - ABTMOU - Sparsh Social Welfare Org.MOU - Sanskrit BharatiMOU - Sewa BhartiMOU - CDF_BisleriMOU - ABT & Music DepartmentMOU - FDP-95\n",
            "39. MOU - Spoken Tutorial, IIT Bombay\n",
            "40. AcademicsDepartmentsCommerceComputer ScienceEconomicsEnglishEnvironmental StudiesHuman Development & Family EmpowermentHindiHistoryJournalismMathematicsMusicPhysical EducationPolitical SciencePsychologyPunjabiSanskritSociologyCoursesUnder GraduateBABA Hons EnglishBA Hons HindiBA Hons HistoryBA Hons JournalismBA Hons Political ScienceBA Hons PsychologyBA Hons SociologyBA Hons SanskritB.ComB.Com HonsB.Sc. Hons MathematicsPost GraduateMA in HindiResearchAbout UsResearch Publications by FacultyResearch ProjectJournalsArthavaanThe Research PostEvents by Research CommitteePalanquin of Thoughts (The Blog)Academic Bank of Credits (ABC)Program OutcomesCourse OutcomesShort-Term CoursesForeign Language CoursesComputer CoursesAcademic CalendarNCWEBSOLIGNOUIGNOUIGNOU StructureIGNOU NotificationsIGNOU AssignmentsICT Tools\n",
            "41. DepartmentsCommerceComputer ScienceEconomicsEnglishEnvironmental StudiesHuman Development & Family EmpowermentHindiHistoryJournalismMathematicsMusicPhysical EducationPolitical SciencePsychologyPunjabiSanskritSociology\n",
            "42. Human Development & Family Empowerment\n",
            "43. Mathematics\n",
            "44. CoursesUnder GraduateBABA Hons EnglishBA Hons HindiBA Hons HistoryBA Hons JournalismBA Hons Political ScienceBA Hons PsychologyBA Hons SociologyBA Hons SanskritB.ComB.Com HonsB.Sc. Hons MathematicsPost GraduateMA in Hindi\n",
            "45. Under GraduateBABA Hons EnglishBA Hons HindiBA Hons HistoryBA Hons JournalismBA Hons Political ScienceBA Hons PsychologyBA Hons SociologyBA Hons SanskritB.ComB.Com HonsB.Sc. Hons Mathematics\n",
            "46. BA\n",
            "47. BA Hons English\n",
            "48. BA Hons Hindi\n",
            "49. BA Hons History\n",
            "50. BA Hons Journalism\n",
            "51. BA Hons Political Science\n",
            "52. BA Hons Psychology\n",
            "53. BA Hons Sociology\n",
            "54. BA Hons Sanskrit\n",
            "55. B.Com\n",
            "56. B.Com Hons\n",
            "57. B.Sc. Hons Mathematics\n",
            "58. Post GraduateMA in Hindi\n",
            "59. MA in Hindi\n",
            "60. Academic Bank of Credits (ABC)\n",
            "61. Students ZoneSyllabusTime TableNEP UGCF 2022GuidelinesStudent's HelpdeskMentor Mentee GroupsAbout Mentor MenteeList of Mentor Mentee GroupsSocieties and ClubsDepartmental SocietiesLoksamvadCommercio - The Vanijya SamitiRedstockings Literary SocietySanskrit ParishadThe ExponentsFreakonomicsPravahCathectHestiaUtkarshTarseelEnactusSrijanAmbedkar Study CircleDastaanAreya The Leadership CellMARCHIONESSTechnophilesECAKavya - Abhivyakti Ka Saajha ManchChilman-The TheatreChintan-The Debating SocietyElantre-The Fashion SocietiesManthan-Nukkad Natak SocietyAdvaita-Dance SocietyMridangKudiya di PhulkariGandhi Study CircleArtvilla-Art and Aesthetic SocietyGIRL UP AGNIClubsPalash-The Eco ClubCine Walkers-The Film ClubAnanda - The Happiness ClubCellOPUS - The Internship and Placement CellUpkram - Innovation and Entrepreneurship CellSC / ST CellNorth East CellJagriti-Women Development CellEqual Opportunity CellOutreach Extension CellAcademic Support CellIris Queer CollectiveVitt 'N' NiveshCounselling CentreLearn & EarnRules For StudentsStudents UnionCollege MagazineE-LearningOneDUPrizes & AwardsFeedbackStudent Grievance Redressal MechanismGrievance Redressal SystemGrievance Redressal Form\n",
            "62. Societies and ClubsDepartmental SocietiesLoksamvadCommercio - The Vanijya SamitiRedstockings Literary SocietySanskrit ParishadThe ExponentsFreakonomicsPravahCathectHestiaUtkarshTarseelEnactusSrijanAmbedkar Study CircleDastaanAreya The Leadership CellMARCHIONESSTechnophilesECAKavya - Abhivyakti Ka Saajha ManchChilman-The TheatreChintan-The Debating SocietyElantre-The Fashion SocietiesManthan-Nukkad Natak SocietyAdvaita-Dance SocietyMridangKudiya di PhulkariGandhi Study CircleArtvilla-Art and Aesthetic SocietyGIRL UP AGNIClubsPalash-The Eco ClubCine Walkers-The Film ClubAnanda - The Happiness ClubCellOPUS - The Internship and Placement CellUpkram - Innovation and Entrepreneurship CellSC / ST CellNorth East CellJagriti-Women Development CellEqual Opportunity CellOutreach Extension CellAcademic Support CellIris Queer CollectiveVitt 'N' Nivesh\n",
            "63. Departmental SocietiesLoksamvadCommercio - The Vanijya SamitiRedstockings Literary SocietySanskrit ParishadThe ExponentsFreakonomicsPravahCathectHestiaUtkarshTarseelEnactusSrijanAmbedkar Study CircleDastaanAreya The Leadership CellMARCHIONESSTechnophiles\n",
            "64. MARCHIONESS\n",
            "65. ECAKavya - Abhivyakti Ka Saajha ManchChilman-The TheatreChintan-The Debating SocietyElantre-The Fashion SocietiesManthan-Nukkad Natak SocietyAdvaita-Dance SocietyMridangKudiya di PhulkariGandhi Study CircleArtvilla-Art and Aesthetic SocietyGIRL UP AGNI\n",
            "66. Kavya - Abhivyakti Ka Saajha Manch\n",
            "67. Chilman-The Theatre\n",
            "68. Chintan-The Debating Society\n",
            "69. Manthan-Nukkad Natak Society\n",
            "70. ClubsPalash-The Eco ClubCine Walkers-The Film ClubAnanda - The Happiness Club\n",
            "71. College Magazine\n",
            "72. Feedback\n",
            "73. Collaborations & MOUsYear 2023-24MOU - Hansraj CollegeMOU - Spoken Tutorial, IIT BombayMOU - Sparsh Social Welfare Org.MOU - Sewa BhartiMOU - NIELITMOU - Pravah & Dept. SociologyMOU - CDFMOU - DU, SOL and Samartha Bharat for CDCYear 2022-23MOU - Spoken Tutorial, IIT BombayMOU - Bisleri InternationalMOU - Delta Right Advisors.MOU - Hansraj CollegeMOU - ABTMOU - Sparsh Social Welfare Org.MOU - Sanskrit BharatiMOU - Sewa BhartiMOU - CDF_BisleriMOU - ABT & Music DepartmentMOU - FDP-95Year 2021-22MOU-Delta Right\n",
            "74. Year 2023-24MOU - Hansraj CollegeMOU - Spoken Tutorial, IIT BombayMOU - Sparsh Social Welfare Org.MOU - Sewa BhartiMOU - NIELITMOU - Pravah & Dept. SociologyMOU - CDFMOU - DU, SOL and Samartha Bharat for CDC\n",
            "75. MOU - Spoken Tutorial, IIT Bombay\n",
            "76. MOU - DU, SOL and Samartha Bharat for CDC\n",
            "77. Year 2022-23MOU - Spoken Tutorial, IIT BombayMOU - Bisleri InternationalMOU - Delta Right Advisors.MOU - Hansraj CollegeMOU - ABTMOU - Sparsh Social Welfare Org.MOU - Sanskrit BharatiMOU - Sewa BhartiMOU - CDF_BisleriMOU - ABT & Music DepartmentMOU - FDP-95\n",
            "78. MOU - Spoken Tutorial, IIT Bombay\n",
            "79. BA\n",
            "80. BA\n",
            "81. Google Map\n",
            "82. Site Map\n",
            "83. Feedback\n"
          ]
        }
      ]
    },
    {
      "cell_type": "code",
      "source": [],
      "metadata": {
        "id": "4he2NzXzC6Tp"
      },
      "execution_count": null,
      "outputs": []
    }
  ]
}